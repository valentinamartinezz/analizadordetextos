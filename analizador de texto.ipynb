{
 "cells": [
  {
   "cell_type": "markdown",
   "metadata": {},
   "source": [
    "# Analizador de texto."
   ]
  },
  {
   "cell_type": "markdown",
   "metadata": {},
   "source": [
    "## Este programa recibe una cadena de texto e informa la longitud (cantida de caracteres),minúscula,mayúsculas y números contenidos,además debe ser capaz de :\n",
    "\n",
    "### - Eliminar espacios en blanco\n",
    "### - Convertir todo el texto en minusculas\n",
    "### - Convertir todo el exto en mayusculas \n",
    "### - Sustituir una o varias palabras \n"
   ]
  },
  {
   "cell_type": "code",
   "execution_count": 7,
   "metadata": {},
   "outputs": [],
   "source": [
    "# Definición de función para obtener información sobre la cadena ingresada\n",
    "def obtener_informacion(cadena):\n",
    "    # Calcula la cantidad total de caracteres en la cadena\n",
    "    cantidad_total = len(cadena)\n",
    "    # Calcula la cantidad de caracteres en minúscula\n",
    "    cantidad_minusculas = sum(1 for char in cadena if char.islower())\n",
    "    # Calcula la cantidad de caracteres en mayúscula\n",
    "    cantidad_mayusculas = sum(1 for char in cadena if char.isupper())\n",
    "    # Calcula la cantidad de caracteres numéricos\n",
    "    cantidad_numericos = sum(1 for char in cadena if char.isdigit())\n",
    "\n",
    "    # Muestra la información obtenida\n",
    "    print(\"Información:\")\n",
    "    print(f\"Cadena de texto: {cadena}\")\n",
    "    print(f\"Cantidad total de caracteres: {cantidad_total}\")\n",
    "    print(f\"Cantidad de caracteres en minúscula: {cantidad_minusculas}\")\n",
    "    print(f\"Cantidad de caracteres en mayúscula: {cantidad_mayusculas}\")\n",
    "    print(f\"Cantidad de caracteres numéricos: {cantidad_numericos}\")\n",
    "\n",
    "# Definición de función para eliminar espacios en blanco de la cadena\n",
    "def eliminar_espacios(cadena):\n",
    "    return cadena.replace(\" \", \"\")\n",
    "\n",
    "# Definición de función para mostrar el menú principal\n",
    "def mostrar_menu():\n",
    "    print(\"1. Mostrar información sobre la cadena\")\n",
    "    print(\"2. Eliminar espacios en blanco\")\n",
    "    print(\"3. Convertir cadena a mayúsculas\")\n",
    "    print(\"4. Convertir cadena a minúsculas\")\n",
    "    print(\"5. Sustituir palabra\")\n",
    "    print(\"6. Salir\")\n",
    "\n",
    "# Definición de función para sustituir una palabra en la cadena\n",
    "def sustituir_palabra(cadena):\n",
    "    palabra_original = input(\"Ingrese la palabra original: \")\n",
    "    palabra_nueva = input(\"Ingrese la palabra nueva: \")\n",
    "    return cadena.replace(palabra_original, palabra_nueva)\n",
    "\n",
    "# Definición de la función principal del programa\n",
    "def menu():\n",
    "    # Solicita al usuario que ingrese una cadena de texto\n",
    "    cadena = input(\"Ingrese una cadena de texto: \")\n",
    "\n",
    "    # Muestra el menú de opciones\n",
    "    mostrar_menu()\n",
    "\n",
    "    # Solicita al usuario que seleccione una opción del menú\n",
    "    opcion = input(\"Seleccione una opción (1/2/3/4/5/6): \")\n",
    "\n",
    "    # Evalúa la opción seleccionada y ejecuta la acción correspondiente\n",
    "    if opcion == \"1\":\n",
    "        obtener_informacion(cadena)\n",
    "    elif opcion == \"2\":\n",
    "        cadena_sin_espacios = eliminar_espacios(cadena)\n",
    "        print(f\"\\nCadena sin espacios: {cadena_sin_espacios}\")\n",
    "    elif opcion == \"3\":\n",
    "        if cadena:\n",
    "            print(\"Cadena en mayúsculas:\", cadena.upper())\n",
    "    elif opcion == \"4\":\n",
    "        if cadena:\n",
    "            print(\"Cadena en minúsculas:\", cadena.lower())\n",
    "    elif opcion == \"5\":\n",
    "        if cadena:\n",
    "            cadena = sustituir_palabra(cadena)\n",
    "            print(\"Cadena con palabra sustituida:\", cadena)\n",
    "    elif opcion == \"6\":\n",
    "        print(\"¡Hasta luego!\")\n",
    "    else:\n",
    "        print(\"Opción no válida. Por favor, seleccione 1, 2, 3, 4, 5 o 6.\")\n",
    "        menu()\n",
    "\n"
   ]
  },
  {
   "cell_type": "markdown",
   "metadata": {},
   "source": [
    " Llama a la función principal para iniciar el programa"
   ]
  },
  {
   "cell_type": "code",
   "execution_count": 15,
   "metadata": {},
   "outputs": [
    {
     "name": "stdout",
     "output_type": "stream",
     "text": [
      "1. Mostrar información sobre la cadena\n",
      "2. Eliminar espacios en blanco\n",
      "3. Convertir cadena a mayúsculas\n",
      "4. Convertir cadena a minúsculas\n",
      "5. Sustituir palabra\n",
      "6. Salir\n",
      "¡Hasta luego!\n"
     ]
    }
   ],
   "source": [
    "\n",
    "menu()"
   ]
  },
  {
   "cell_type": "code",
   "execution_count": 5,
   "metadata": {},
   "outputs": [
    {
     "name": "stdout",
     "output_type": "stream",
     "text": [
      "\n",
      "1. Show information about the string\n",
      "2. Remove spaces\n",
      "3. Convert string to uppercase\n",
      "4. Convert string to lowercase\n",
      "5. Replace a word\n",
      "6. Exit\n",
      "Goodbye!\n"
     ]
    }
   ],
   "source": [
    "# Function to obtain information about the input string\n",
    "def get_information(string):\n",
    "    total_characters = len(string)\n",
    "    lowercase_count = sum(1 for char in string if char.islower())\n",
    "    uppercase_count = sum(1 for char in string if char.isupper())\n",
    "    numeric_count = sum(1 for char in string if char.isdigit())\n",
    "\n",
    "    # Print information about the string\n",
    "    print(\"Information:\")\n",
    "    print(f\"Input string: {string}\")\n",
    "    print(f\"Total characters: {total_characters}\")\n",
    "    print(f\"Lowercase characters count: {lowercase_count}\")\n",
    "    print(f\"Uppercase characters count: {uppercase_count}\")\n",
    "    print(f\"Numeric characters count: {numeric_count}\")\n",
    "\n",
    "# Function to remove spaces from the input string\n",
    "def remove_spaces(string):\n",
    "    return string.replace(\" \", \"\")\n",
    "\n",
    "# Function to display the menu for converting the string to uppercase\n",
    "def show_uppercase_menu():\n",
    "    print(\"Convert string to uppercase\")\n",
    "\n",
    "# Function to display the menu for converting the string to lowercase\n",
    "def show_lowercase_menu():\n",
    "    print(\"Convert string to lowercase\")\n",
    "\n",
    "# Function to replace a word in the input string\n",
    "def replace_word(string):\n",
    "    original_word = input(\"Enter the original word: \")\n",
    "    new_word = input(\"Enter the new word: \")\n",
    "    return string.replace(original_word, new_word)\n",
    "\n",
    "# Main menu function\n",
    "def main_menu():\n",
    "    string = input(\"Enter a text string: \")\n",
    "\n",
    "    # Display the options menu\n",
    "    print(\"\\n1. Show information about the string\")\n",
    "    print(\"2. Remove spaces\")\n",
    "    print(\"3. Convert string to uppercase\")\n",
    "    print(\"4. Convert string to lowercase\")\n",
    "    print(\"5. Replace a word\")\n",
    "    print(\"6. Exit\")\n",
    "\n",
    "    # Prompt the user to select an option\n",
    "    option = input(\"Select an option (1/2/3/4/5/6): \")\n",
    "\n",
    "    # Evaluate the selected option and perform the corresponding action\n",
    "    if option == \"1\":\n",
    "        get_information(string)\n",
    "    elif option == \"2\":\n",
    "        string_without_spaces = remove_spaces(string)\n",
    "        print(f\"\\nString without spaces: {string_without_spaces}\")\n",
    "    elif option == \"3\":\n",
    "        if string:\n",
    "            print(\"String in uppercase:\", string.upper())\n",
    "    elif option == \"4\":\n",
    "        if string:\n",
    "            print(\"String in lowercase:\", string.lower())\n",
    "    elif option == \"5\":\n",
    "        if string:\n",
    "            string = replace_word(string)\n",
    "            print(\"String with replaced word:\", string)\n",
    "    elif option == \"6\":\n",
    "        print(\"Goodbye!\")\n",
    "    else:\n",
    "        print(\"Invalid option. Please select 1, 2, 3, 4, 5, or 6.\")\n",
    "        main_menu()\n",
    "\n",
    "# Call the main menu function to start the program\n",
    "main_menu()"
   ]
  }
 ],
 "metadata": {
  "kernelspec": {
   "display_name": "Python 3",
   "language": "python",
   "name": "python3"
  },
  "language_info": {
   "codemirror_mode": {
    "name": "ipython",
    "version": 3
   },
   "file_extension": ".py",
   "mimetype": "text/x-python",
   "name": "python",
   "nbconvert_exporter": "python",
   "pygments_lexer": "ipython3",
   "version": "3.11.7"
  }
 },
 "nbformat": 4,
 "nbformat_minor": 2
}
